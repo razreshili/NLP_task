{
 "cells": [
  {
   "cell_type": "markdown",
   "metadata": {},
   "source": [
    "### Устанавливаем библиотеку для NLP русского языка"
   ]
  },
  {
   "cell_type": "code",
   "execution_count": 1,
   "metadata": {},
   "outputs": [
    {
     "name": "stdout",
     "output_type": "stream",
     "text": [
      "Requirement already satisfied: yargy in /Library/Frameworks/Python.framework/Versions/3.7/lib/python3.7/site-packages (0.15.0)\n",
      "Requirement already satisfied: pymorphy2 in /Library/Frameworks/Python.framework/Versions/3.7/lib/python3.7/site-packages (from yargy) (0.9.1)\n",
      "Requirement already satisfied: pymorphy2-dicts-ru<3.0,>=2.4 in /Library/Frameworks/Python.framework/Versions/3.7/lib/python3.7/site-packages (from pymorphy2->yargy) (2.4.417127.4579844)\n",
      "Requirement already satisfied: dawg-python>=0.7.1 in /Library/Frameworks/Python.framework/Versions/3.7/lib/python3.7/site-packages (from pymorphy2->yargy) (0.7.2)\n",
      "Requirement already satisfied: docopt>=0.6 in /Library/Frameworks/Python.framework/Versions/3.7/lib/python3.7/site-packages (from pymorphy2->yargy) (0.6.2)\n",
      "\u001b[33mWARNING: You are using pip version 20.1.1; however, version 22.2.2 is available.\n",
      "You should consider upgrading via the '/Library/Frameworks/Python.framework/Versions/3.7/bin/python3.7 -m pip install --upgrade pip' command.\u001b[0m\n",
      "Note: you may need to restart the kernel to use updated packages.\n"
     ]
    }
   ],
   "source": [
    "pip install yargy"
   ]
  },
  {
   "cell_type": "markdown",
   "metadata": {},
   "source": [
    "### Загружаем данные из .csv файла в pandas dataframe(csv файл хранится в папке data)."
   ]
  },
  {
   "cell_type": "code",
   "execution_count": 2,
   "metadata": {},
   "outputs": [],
   "source": [
    "import pandas as pd"
   ]
  },
  {
   "cell_type": "code",
   "execution_count": 3,
   "metadata": {},
   "outputs": [],
   "source": [
    "filename = \"data/test_data.csv\""
   ]
  },
  {
   "cell_type": "code",
   "execution_count": 4,
   "metadata": {},
   "outputs": [],
   "source": [
    "df = pd.read_csv(filename, sep=\",\")"
   ]
  },
  {
   "cell_type": "code",
   "execution_count": 5,
   "metadata": {},
   "outputs": [],
   "source": [
    "df['greeting'] = [0] * len(df)\n",
    "df['goodbye'] = [0] * len(df)\n",
    "df['self_intro'] = [0] * len(df)"
   ]
  },
  {
   "cell_type": "markdown",
   "metadata": {},
   "source": [
    "### Делим датасет и создаём отдельные датасеты для каждого диалога"
   ]
  },
  {
   "cell_type": "code",
   "execution_count": 6,
   "metadata": {},
   "outputs": [],
   "source": [
    "dialogues = []"
   ]
  },
  {
   "cell_type": "code",
   "execution_count": 7,
   "metadata": {},
   "outputs": [],
   "source": [
    "for dialogue_id in df['dlg_id'].unique(): \n",
    "    dialogues.append(df[df['dlg_id']==dialogue_id].drop(['dlg_id'], axis=1, inplace=False).reset_index())"
   ]
  },
  {
   "cell_type": "markdown",
   "metadata": {},
   "source": [
    "## Подключаем библиотеки"
   ]
  },
  {
   "cell_type": "code",
   "execution_count": 8,
   "metadata": {},
   "outputs": [],
   "source": [
    "from yargy import Parser, rule, or_\n",
    "from yargy.predicates import gram, dictionary\n",
    "from yargy.pipelines import morph_pipeline\n",
    "from yargy.interpretation import fact\n",
    "from IPython.display import display"
   ]
  },
  {
   "cell_type": "markdown",
   "metadata": {},
   "source": [
    "Извлекаем только слова manager, так как для задач тестового задания слова client не нужны"
   ]
  },
  {
   "cell_type": "markdown",
   "metadata": {},
   "source": [
    "## a. Извлекать реплики с приветствием – где менеджер поздоровался."
   ]
  },
  {
   "cell_type": "code",
   "execution_count": 9,
   "metadata": {},
   "outputs": [],
   "source": [
    "GREETING = morph_pipeline([\n",
    "    'привет',\n",
    "    'добрый день',\n",
    "    'доброе утро',\n",
    "    'добрый вечер',\n",
    "    'здравствуйте',\n",
    "    'здравствуй'\n",
    "])\n",
    "\n",
    "parser_hi = Parser(GREETING)"
   ]
  },
  {
   "cell_type": "code",
   "execution_count": 10,
   "metadata": {
    "scrolled": true
   },
   "outputs": [
    {
     "name": "stdout",
     "output_type": "stream",
     "text": [
      "В реплике :\"Алло здравствуйте\" обнаружено приветствие:\n"
     ]
    },
    {
     "data": {
      "text/plain": [
       "['здравствуйте']"
      ]
     },
     "metadata": {},
     "output_type": "display_data"
    },
    {
     "name": "stdout",
     "output_type": "stream",
     "text": [
      "В реплике :\"Алло здравствуйте\" обнаружено приветствие:\n"
     ]
    },
    {
     "data": {
      "text/plain": [
       "['здравствуйте']"
      ]
     },
     "metadata": {},
     "output_type": "display_data"
    },
    {
     "name": "stdout",
     "output_type": "stream",
     "text": [
      "В реплике :\"Алло здравствуйте\" обнаружено приветствие:\n"
     ]
    },
    {
     "data": {
      "text/plain": [
       "['здравствуйте']"
      ]
     },
     "metadata": {},
     "output_type": "display_data"
    },
    {
     "name": "stdout",
     "output_type": "stream",
     "text": [
      "В реплике :\"Алло дмитрий добрый день\" обнаружено приветствие:\n"
     ]
    },
    {
     "data": {
      "text/plain": [
       "['добрый', 'день']"
      ]
     },
     "metadata": {},
     "output_type": "display_data"
    }
   ],
   "source": [
    "for df_dial in dialogues:\n",
    "    for index,text in df_dial[df_dial['role']=='manager']['text'].iteritems():\n",
    "        for match in parser_hi.findall(text):\n",
    "            df_dial.loc[index,'greeting'] = 1\n",
    "            print('В реплике :\"' + str(df_dial.loc[index,'text'])+ '\" обнаружено приветствие:')\n",
    "            display([_.value for _ in match.tokens])"
   ]
  },
  {
   "cell_type": "markdown",
   "metadata": {},
   "source": [
    "## b. Извлекать реплики, где менеджер представил себя"
   ]
  },
  {
   "cell_type": "code",
   "execution_count": 11,
   "metadata": {},
   "outputs": [],
   "source": [
    "Person = fact(\n",
    "    'Person',\n",
    "    ['selfintro', 'name']\n",
    ")\n",
    "Name = fact(\n",
    "    'Name',['first'])\n",
    "\n",
    "SELF_INTRO = morph_pipeline([\n",
    "    'меня зовут',\n",
    "    'я',\n",
    "    'это'\n",
    "])\n",
    "\n",
    "NAME = rule(\n",
    "    gram('Name').interpretation(\n",
    "        Name.first.inflected()\n",
    "    )\n",
    ")\n",
    "\n",
    "PERSON = rule(\n",
    "    SELF_INTRO.interpretation(\n",
    "        Person.selfintro\n",
    "    ),\n",
    "    NAME.interpretation(\n",
    "        Person.name\n",
    "    )\n",
    ").interpretation(\n",
    "    Person\n",
    ")\n",
    "\n",
    "\n",
    "parser_self_intro = Parser(PERSON)"
   ]
  },
  {
   "cell_type": "code",
   "execution_count": 12,
   "metadata": {},
   "outputs": [
    {
     "name": "stdout",
     "output_type": "stream",
     "text": [
      "В реплике :\"Меня зовут ангелина компания диджитал бизнес звоним вам по поводу продления лицензии а мы с серым у вас скоро срок заканчивается\" менеджер представил себя:\n"
     ]
    },
    {
     "data": {
      "text/plain": [
       "Person(\n",
       "    selfintro='Меня зовут',\n",
       "    name='ангелина'\n",
       ")"
      ]
     },
     "metadata": {},
     "output_type": "display_data"
    },
    {
     "name": "stdout",
     "output_type": "stream",
     "text": [
      "В реплике :\"Меня зовут ангелина компания диджитал бизнес звоню вам по поводу продления а мы сели обратила внимание что у вас срок заканчивается\" менеджер представил себя:\n"
     ]
    },
    {
     "data": {
      "text/plain": [
       "Person(\n",
       "    selfintro='Меня зовут',\n",
       "    name='ангелина'\n",
       ")"
      ]
     },
     "metadata": {},
     "output_type": "display_data"
    },
    {
     "name": "stdout",
     "output_type": "stream",
     "text": [
      "В реплике :\"Меня зовут ангелина компания диджитал бизнес звоню вам по поводу продления лицензии а мастера мы с вами сотрудничали по видео там\" менеджер представил себя:\n"
     ]
    },
    {
     "data": {
      "text/plain": [
       "Person(\n",
       "    selfintro='Меня зовут',\n",
       "    name='ангелина'\n",
       ")"
      ]
     },
     "metadata": {},
     "output_type": "display_data"
    },
    {
     "name": "stdout",
     "output_type": "stream",
     "text": [
      "В реплике :\"Добрый меня максим зовут компания китобизнес удобно говорить\" менеджер представил себя:\n"
     ]
    },
    {
     "data": {
      "text/plain": [
       "Person(\n",
       "    selfintro='меня',\n",
       "    name='максим'\n",
       ")"
      ]
     },
     "metadata": {},
     "output_type": "display_data"
    },
    {
     "name": "stdout",
     "output_type": "stream",
     "text": [
      "В реплике :\"Да это анастасия\" менеджер представил себя:\n"
     ]
    },
    {
     "data": {
      "text/plain": [
       "Person(\n",
       "    selfintro='это',\n",
       "    name='анастасия'\n",
       ")"
      ]
     },
     "metadata": {},
     "output_type": "display_data"
    }
   ],
   "source": [
    "for df_dial in dialogues:\n",
    "    for index,text in df_dial[df_dial['role']=='manager']['text'].iteritems():\n",
    "        for match in parser_self_intro.findall(text):\n",
    "            df_dial.loc[index,'self_intro'] = 1\n",
    "            print('В реплике :\"' + str(df_dial.loc[index,'text'])+ '\" менеджер представил себя:')\n",
    "            display(match.fact)"
   ]
  },
  {
   "cell_type": "markdown",
   "metadata": {},
   "source": [
    "## c. Извлекать имя менеджера."
   ]
  },
  {
   "cell_type": "code",
   "execution_count": 13,
   "metadata": {},
   "outputs": [
    {
     "name": "stdout",
     "output_type": "stream",
     "text": [
      "Менеджер диалога 0:\n"
     ]
    },
    {
     "data": {
      "text/plain": [
       "'ангелина'"
      ]
     },
     "metadata": {},
     "output_type": "display_data"
    },
    {
     "name": "stdout",
     "output_type": "stream",
     "text": [
      "Менеджер диалога 1:\n"
     ]
    },
    {
     "data": {
      "text/plain": [
       "'ангелина'"
      ]
     },
     "metadata": {},
     "output_type": "display_data"
    },
    {
     "name": "stdout",
     "output_type": "stream",
     "text": [
      "Менеджер диалога 2:\n"
     ]
    },
    {
     "data": {
      "text/plain": [
       "'ангелина'"
      ]
     },
     "metadata": {},
     "output_type": "display_data"
    },
    {
     "name": "stdout",
     "output_type": "stream",
     "text": [
      "Менеджер диалога 3:\n"
     ]
    },
    {
     "data": {
      "text/plain": [
       "'максим'"
      ]
     },
     "metadata": {},
     "output_type": "display_data"
    },
    {
     "name": "stdout",
     "output_type": "stream",
     "text": [
      "Менеджер диалога 5:\n"
     ]
    },
    {
     "data": {
      "text/plain": [
       "'анастасия'"
      ]
     },
     "metadata": {},
     "output_type": "display_data"
    }
   ],
   "source": [
    "j = 0\n",
    "for df_dial in dialogues:\n",
    "    for text in df_dial[df_dial['role']=='manager']['text']:\n",
    "        for match in parser_self_intro.findall(text):\n",
    "            print('Менеджер диалога ' + str(j) + ':')\n",
    "            display(match.fact.name)\n",
    "    j+=1"
   ]
  },
  {
   "cell_type": "markdown",
   "metadata": {},
   "source": [
    "## d. Извлекать название компании"
   ]
  },
  {
   "cell_type": "code",
   "execution_count": 14,
   "metadata": {},
   "outputs": [],
   "source": [
    "from yargy import or_\n",
    "COMPANY = rule(\n",
    "    dictionary({\n",
    "        'компания'\n",
    "    }),\n",
    "    gram('NOUN'),\n",
    "    or_(\n",
    "        gram('NOUN'),\n",
    "        gram('ADJF')\n",
    "    ).optional().repeatable(),\n",
    ")\n",
    "\n",
    "parser_company = Parser(COMPANY)"
   ]
  },
  {
   "cell_type": "code",
   "execution_count": 15,
   "metadata": {},
   "outputs": [
    {
     "name": "stdout",
     "output_type": "stream",
     "text": [
      "Компания из диалога 0:\n",
      "['компания', 'диджитал', 'бизнес']\n",
      "Компания из диалога 1:\n",
      "['компания', 'диджитал', 'бизнес']\n",
      "Компания из диалога 2:\n",
      "['компания', 'диджитал', 'бизнес']\n",
      "Компания из диалога 3:\n",
      "['компания', 'китобизнес']\n"
     ]
    }
   ],
   "source": [
    "j = 0\n",
    "for df_dial in dialogues:\n",
    "    for text in df_dial[df_dial['role']=='manager']['text']:\n",
    "        for match in parser_company.findall(text):\n",
    "            print('Компания из диалога ' + str(j) + ':')\n",
    "            print([_.value for _ in match.tokens])\n",
    "    j+=1"
   ]
  },
  {
   "cell_type": "markdown",
   "metadata": {},
   "source": [
    "## e. Извлекать реплики, где менеджер попрощался."
   ]
  },
  {
   "cell_type": "code",
   "execution_count": 16,
   "metadata": {},
   "outputs": [],
   "source": [
    "GOODBYE = morph_pipeline([\n",
    "    'до свидания',\n",
    "    'всего хорошего'\n",
    "])\n",
    "\n",
    "parser_bye = Parser(GOODBYE)"
   ]
  },
  {
   "cell_type": "code",
   "execution_count": 17,
   "metadata": {},
   "outputs": [
    {
     "name": "stdout",
     "output_type": "stream",
     "text": [
      "В реплике :\"Всего хорошего до свидания\" менеджер попрощался:\n"
     ]
    },
    {
     "data": {
      "text/plain": [
       "['Всего', 'хорошего']"
      ]
     },
     "metadata": {},
     "output_type": "display_data"
    },
    {
     "name": "stdout",
     "output_type": "stream",
     "text": [
      "В реплике :\"Всего хорошего до свидания\" менеджер попрощался:\n"
     ]
    },
    {
     "data": {
      "text/plain": [
       "['до', 'свидания']"
      ]
     },
     "metadata": {},
     "output_type": "display_data"
    },
    {
     "name": "stdout",
     "output_type": "stream",
     "text": [
      "В реплике :\"Угу да вижу я эту почту хорошо тогда исправлю на эту будем ждать ответа всего хорошего\" менеджер попрощался:\n"
     ]
    },
    {
     "data": {
      "text/plain": [
       "['всего', 'хорошего']"
      ]
     },
     "metadata": {},
     "output_type": "display_data"
    },
    {
     "name": "stdout",
     "output_type": "stream",
     "text": [
      "В реплике :\"До свидания\" менеджер попрощался:\n"
     ]
    },
    {
     "data": {
      "text/plain": [
       "['До', 'свидания']"
      ]
     },
     "metadata": {},
     "output_type": "display_data"
    },
    {
     "name": "stdout",
     "output_type": "stream",
     "text": [
      "В реплике :\"Все хорошо\" менеджер попрощался:\n"
     ]
    },
    {
     "data": {
      "text/plain": [
       "['Все', 'хорошо']"
      ]
     },
     "metadata": {},
     "output_type": "display_data"
    },
    {
     "name": "stdout",
     "output_type": "stream",
     "text": [
      "В реплике :\"Угу все хорошо да понедельника тогда всего доброго\" менеджер попрощался:\n"
     ]
    },
    {
     "data": {
      "text/plain": [
       "['все', 'хорошо']"
      ]
     },
     "metadata": {},
     "output_type": "display_data"
    },
    {
     "name": "stdout",
     "output_type": "stream",
     "text": [
      "В реплике :\"Во вторник все ну с вами да тогда до вторника до свидания\" менеджер попрощался:\n"
     ]
    },
    {
     "data": {
      "text/plain": [
       "['до', 'свидания']"
      ]
     },
     "metadata": {},
     "output_type": "display_data"
    },
    {
     "name": "stdout",
     "output_type": "stream",
     "text": [
      "В реплике :\"Все хорошо я вас поняла тогда вы хотите сейчас полностью обновиться и уже начать правильно работать\" менеджер попрощался:\n"
     ]
    },
    {
     "data": {
      "text/plain": [
       "['Все', 'хорошо']"
      ]
     },
     "metadata": {},
     "output_type": "display_data"
    },
    {
     "name": "stdout",
     "output_type": "stream",
     "text": [
      "В реплике :\"Ну до свидания хорошего вечера\" менеджер попрощался:\n"
     ]
    },
    {
     "data": {
      "text/plain": [
       "['до', 'свидания']"
      ]
     },
     "metadata": {},
     "output_type": "display_data"
    }
   ],
   "source": [
    "for df_dial in dialogues:\n",
    "    for index,text in df_dial[df_dial['role']=='manager']['text'].iteritems():\n",
    "        for match in parser_bye.findall(text):\n",
    "            df_dial.loc[index,'goodbye'] = 1\n",
    "            print('В реплике :\"' + str(df_dial.loc[index,'text'])+ '\" менеджер попрощался:')\n",
    "            display([_.value for _ in match.tokens])"
   ]
  },
  {
   "cell_type": "markdown",
   "metadata": {},
   "source": [
    "## f. Проверять требование к менеджеру: «В каждом диалоге обязательно необходимо поздороваться и попрощаться с клиентом"
   ]
  },
  {
   "cell_type": "code",
   "execution_count": 18,
   "metadata": {},
   "outputs": [
    {
     "name": "stdout",
     "output_type": "stream",
     "text": [
      "Менеджер диалога 0 поздоровался и попрощался\n",
      "Менеджер диалога 1 поздоровался и попрощался\n",
      "Менеджер диалога 2 поздоровался и попрощался\n",
      "Менеджер диалога 3 поздоровался и попрощался\n"
     ]
    }
   ],
   "source": [
    "j = 0\n",
    "for df_dial in dialogues:\n",
    "    if 1 in df_dial['greeting'].values and 1 in df_dial['goodbye'].values:\n",
    "        #print(df_dial['greeting'])\n",
    "        print('Менеджер диалога ' + str(j) + ' поздоровался и попрощался')\n",
    "    j+=1"
   ]
  },
  {
   "cell_type": "code",
   "execution_count": null,
   "metadata": {},
   "outputs": [],
   "source": []
  },
  {
   "cell_type": "code",
   "execution_count": null,
   "metadata": {},
   "outputs": [],
   "source": []
  }
 ],
 "metadata": {
  "kernelspec": {
   "display_name": "Python 3",
   "language": "python",
   "name": "python3"
  },
  "language_info": {
   "codemirror_mode": {
    "name": "ipython",
    "version": 3
   },
   "file_extension": ".py",
   "mimetype": "text/x-python",
   "name": "python",
   "nbconvert_exporter": "python",
   "pygments_lexer": "ipython3",
   "version": "3.7.6"
  }
 },
 "nbformat": 4,
 "nbformat_minor": 4
}
